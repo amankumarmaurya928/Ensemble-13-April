{
 "cells": [
  {
   "cell_type": "code",
   "execution_count": 1,
   "id": "86538300-fa85-4d11-9064-843ad1fae14b",
   "metadata": {},
   "outputs": [
    {
     "data": {
      "text/plain": [
       "'A random forest regressor. A random forest is a meta estimator that fits a number of classifying decision trees on various \\n   sub-samples of the dataset and uses averaging to improve the predictive accuracy and control over-fitting.\\n   It can perform both regression and classification tasks. A random forest produces good predictions that can be understood \\n   easily. It can handle large datasets efficiently. The random forest algorithm provides a higher level of accuracy in \\n   predicting outcomes over the decision tree algorithm.\\n   '"
      ]
     },
     "execution_count": 1,
     "metadata": {},
     "output_type": "execute_result"
    }
   ],
   "source": [
    "# Q1\n",
    "'''A random forest regressor. A random forest is a meta estimator that fits a number of classifying decision trees on various \n",
    "   sub-samples of the dataset and uses averaging to improve the predictive accuracy and control over-fitting.\n",
    "   It can perform both regression and classification tasks. A random forest produces good predictions that can be understood \n",
    "   easily. It can handle large datasets efficiently. The random forest algorithm provides a higher level of accuracy in \n",
    "   predicting outcomes over the decision tree algorithm.\n",
    "   '''"
   ]
  },
  {
   "cell_type": "code",
   "execution_count": 2,
   "id": "57da5bf8-3a66-4a85-a9cf-3fca4188f26a",
   "metadata": {},
   "outputs": [
    {
     "data": {
      "text/plain": [
       "'Random forests deals with the problem of overfitting by creating multiple trees, with each tree trained slightly differently\\n   so it overfits differently. Random forests is a classifier that combines a large number of decision trees. The decisions of\\n   each tree are then combined to make the final classification.\\n   '"
      ]
     },
     "execution_count": 2,
     "metadata": {},
     "output_type": "execute_result"
    }
   ],
   "source": [
    "# Q2\n",
    "'''Random forests deals with the problem of overfitting by creating multiple trees, with each tree trained slightly differently\n",
    "   so it overfits differently. Random forests is a classifier that combines a large number of decision trees. The decisions of\n",
    "   each tree are then combined to make the final classification.\n",
    "   '''"
   ]
  },
  {
   "cell_type": "code",
   "execution_count": 3,
   "id": "65ea91b1-6c38-4169-88da-ee3ec4f8d2a7",
   "metadata": {},
   "outputs": [
    {
     "data": {
      "text/plain": [
       "'Random forest regression takes mean value of the results from decision trees. Random forests reduce the risk of overfitting \\n   and accuracy is much higher than a single decision tree. Furthermore, decision trees in a random forest run in parallel so\\n   that the time does not become a bottleneck.\\n   The Random Forest Algorithm combines the output of multiple (randomly created) Decision Trees to generate the final output.\\n   This process of combining the output of multiple individual models (also known as weak learners) is called Ensemble Learning\\n   '"
      ]
     },
     "execution_count": 3,
     "metadata": {},
     "output_type": "execute_result"
    }
   ],
   "source": [
    "# Q3\n",
    "'''Random forest regression takes mean value of the results from decision trees. Random forests reduce the risk of overfitting \n",
    "   and accuracy is much higher than a single decision tree. Furthermore, decision trees in a random forest run in parallel so\n",
    "   that the time does not become a bottleneck.\n",
    "   The Random Forest Algorithm combines the output of multiple (randomly created) Decision Trees to generate the final output.\n",
    "   This process of combining the output of multiple individual models (also known as weak learners) is called Ensemble Learning\n",
    "   '''"
   ]
  },
  {
   "cell_type": "code",
   "execution_count": 4,
   "id": "d22396b3-b2eb-4f51-b91d-91657c069c6d",
   "metadata": {},
   "outputs": [
    {
     "data": {
      "text/plain": [
       "'In random forest, the hyperparameters are the number of trees, number of features and the type of trees (such as GBM or M5).\\n   The number of features is important and should be tuned. In this case, random forest is useful because it automatically \\n   tunes the number of features.\\n   A hyperparameter is a parameter whose value is set before the learning process begins. Some examples of hyperparameters \\n   include penalty in logistic regression and loss in stochastic gradient descent. In sklearn, hyperparameters are passed in as \\n   arguments to the constructor of the model classes.\\n   '"
      ]
     },
     "execution_count": 4,
     "metadata": {},
     "output_type": "execute_result"
    }
   ],
   "source": [
    "# Q4\n",
    "'''In random forest, the hyperparameters are the number of trees, number of features and the type of trees (such as GBM or M5).\n",
    "   The number of features is important and should be tuned. In this case, random forest is useful because it automatically \n",
    "   tunes the number of features.\n",
    "   A hyperparameter is a parameter whose value is set before the learning process begins. Some examples of hyperparameters \n",
    "   include penalty in logistic regression and loss in stochastic gradient descent. In sklearn, hyperparameters are passed in as \n",
    "   arguments to the constructor of the model classes.\n",
    "   '''"
   ]
  },
  {
   "cell_type": "code",
   "execution_count": 5,
   "id": "37e72dc2-ace6-47f4-9989-478c06264494",
   "metadata": {},
   "outputs": [
    {
     "data": {
      "text/plain": [
       "'A decision tree combines some decisions, whereas a random forest combines several decision trees. Thus, it is a long\\n   process, yet slow. Whereas, a decision tree is fast and operates easily on large data sets, especially the linear one. The\\n   random forest model needs rigorous training.\\n   '"
      ]
     },
     "execution_count": 5,
     "metadata": {},
     "output_type": "execute_result"
    }
   ],
   "source": [
    "# Q5\n",
    "'''A decision tree combines some decisions, whereas a random forest combines several decision trees. Thus, it is a long\n",
    "   process, yet slow. Whereas, a decision tree is fast and operates easily on large data sets, especially the linear one. The\n",
    "   random forest model needs rigorous training.\n",
    "   '''"
   ]
  },
  {
   "cell_type": "code",
   "execution_count": 6,
   "id": "a9812a38-41a7-42dc-84c6-a22d72522056",
   "metadata": {},
   "outputs": [
    {
     "data": {
      "text/plain": [
       "'Advantages of random forest:\\n1. It can perform both regression and classification tasks.\\n2. A random forest produces good predictions that can be understood easily.\\n3. It can handle large datasets efficiently.\\n4. The random forest algorithm provides a higher level of accuracy in predicting outcomes over the decision tree algorithm.\\n   Disadvantages of Random Forest:\\n   The main limitation of random forest is that a large number of trees can make the algorithm too slow and ineffective for \\n   real-time predictions. In general, these algorithms are fast to train, but quite slow to create predictions once they are\\n   trained.'"
      ]
     },
     "execution_count": 6,
     "metadata": {},
     "output_type": "execute_result"
    }
   ],
   "source": [
    "# Q6\n",
    "'''Advantages of random forest:\n",
    "1. It can perform both regression and classification tasks.\n",
    "2. A random forest produces good predictions that can be understood easily.\n",
    "3. It can handle large datasets efficiently.\n",
    "4. The random forest algorithm provides a higher level of accuracy in predicting outcomes over the decision tree algorithm.\n",
    "   Disadvantages of Random Forest:\n",
    "   The main limitation of random forest is that a large number of trees can make the algorithm too slow and ineffective for \n",
    "   real-time predictions. In general, these algorithms are fast to train, but quite slow to create predictions once they are\n",
    "   trained.'''"
   ]
  },
  {
   "cell_type": "code",
   "execution_count": 7,
   "id": "1049b270-fc45-4ae7-840b-28b4abd6d41e",
   "metadata": {},
   "outputs": [
    {
     "data": {
      "text/plain": [
       "'Random forest regression in R provides two outputs: decrease in mean square error (MSE) and node purity. Prediction error\\n   described as MSE is based on permuting out-of-bag sections of the data per individual tree and predictor, and the errors\\n   are then averaged.\\n   '"
      ]
     },
     "execution_count": 7,
     "metadata": {},
     "output_type": "execute_result"
    }
   ],
   "source": [
    "# Q7\n",
    "'''Random forest regression in R provides two outputs: decrease in mean square error (MSE) and node purity. Prediction error\n",
    "   described as MSE is based on permuting out-of-bag sections of the data per individual tree and predictor, and the errors\n",
    "   are then averaged.\n",
    "   '''"
   ]
  },
  {
   "cell_type": "code",
   "execution_count": 8,
   "id": "c7e3430f-3290-49fd-abb1-21bac53c158f",
   "metadata": {},
   "outputs": [
    {
     "data": {
      "text/plain": [
       "'Random Forest is a sophisticated and adaptable supervised machine learning technique that creates and combines a large\\n   number of decision trees to create a \"forest\". This can be used to solve classification and regression problems.\\n'"
      ]
     },
     "execution_count": 8,
     "metadata": {},
     "output_type": "execute_result"
    }
   ],
   "source": [
    "# Q8\n",
    "'''Random Forest is a sophisticated and adaptable supervised machine learning technique that creates and combines a large\n",
    "   number of decision trees to create a \"forest\". This can be used to solve classification and regression problems.\n",
    "'''"
   ]
  },
  {
   "cell_type": "code",
   "execution_count": null,
   "id": "06032654-ead6-4872-b48b-ad8ce208bcc3",
   "metadata": {},
   "outputs": [],
   "source": []
  }
 ],
 "metadata": {
  "kernelspec": {
   "display_name": "Python 3 (ipykernel)",
   "language": "python",
   "name": "python3"
  },
  "language_info": {
   "codemirror_mode": {
    "name": "ipython",
    "version": 3
   },
   "file_extension": ".py",
   "mimetype": "text/x-python",
   "name": "python",
   "nbconvert_exporter": "python",
   "pygments_lexer": "ipython3",
   "version": "3.10.8"
  }
 },
 "nbformat": 4,
 "nbformat_minor": 5
}
